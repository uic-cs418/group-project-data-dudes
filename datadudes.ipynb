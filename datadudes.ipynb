import pyreadstat
import pandas as pd
