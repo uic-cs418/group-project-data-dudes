{
 "cells": [
  {
   "cell_type": "code",
   "execution_count": 9,
   "metadata": {},
   "outputs": [
    {
     "name": "stderr",
     "output_type": "stream",
     "text": [
      "<>:3: SyntaxWarning: invalid escape sequence '\\A'\n",
      "<>:3: SyntaxWarning: invalid escape sequence '\\A'\n",
      "C:\\Users\\prath\\AppData\\Local\\Temp\\ipykernel_3232\\1577488520.py:3: SyntaxWarning: invalid escape sequence '\\A'\n",
      "  df = pd.read_spss('W119_Dec22\\ATP W119.sav')\n"
     ]
    },
    {
     "name": "stdout",
     "output_type": "stream",
     "text": [
      "11004\n",
      "156\n"
     ]
    }
   ],
   "source": [
    "import pandas as pd\n",
    "\n",
    "df = pd.read_spss('W119_Dec22\\ATP W119.sav')\n",
    "\n",
    "# print(df)\n",
    "\n",
    "row_count = len(df)\n",
    "print(row_count)\n",
    "\n",
    "num_cols = df.shape[1]\n",
    "print(num_cols)"
   ]
  },
  {
   "cell_type": "code",
   "execution_count": 21,
   "metadata": {},
   "outputs": [
    {
     "name": "stdout",
     "output_type": "stream",
     "text": [
      "Cleaned shape: (11004, 156)\n",
      "\n",
      "Sample of removed rows (with too many missing values):\n",
      "Empty DataFrame\n",
      "Columns: [QKEY, INTERVIEW_START_W119, INTERVIEW_END_W119, DEVICE_TYPE_W119, LANG_W119, FORM_W119, DESRISK_COMF_W119, DESRISK_CREAT_W119, DESRISK_NTECH_W119, RISK2_W119, AI_HEARD_W119, CNCEXC_W119, USEAI_W119, AIKNOW1_W119, AIKNOW2_W119, AIKNOW3_W119, AIKNOW5_W119, AIKNOW6_W119, AIKNOW7_W119, AIKNOW1_CORRECT_W119, AIKNOW2_CORRECT_W119, AIKNOW3_CORRECT_W119, AIKNOW5_CORRECT_W119, AIKNOW6_CORRECT_W119, AIKNOW7_CORRECT_W119, AIKNOW_INDEX_W119, AIHCCOMF_W119, AIHCTRT1_W119, AIHCTRT2_W119, MEDBIAS_W119, AIHCCHG_QUAL_W119, AIHCCHG_MIST_W119, AIHCCHG_REL_W119, AIHCCHG_RACETHN_W119, AIHCCHG_SECUR_W119, HCMEDBIAS_W119, BIASBETR_OE1_W119, BIASBETR_OE2_W119, BIASBETR_OE3_W119, BIASBETR_REFUSED_W119, BIASWORS_OE1_W119, BIASWORS_OE2_W119, BIASWORS_OE3_W119, BIASWORS_REFUSED_W119, BIASSAME_OE1_W119, BIASSAME_OE2_W119, BIASSAME_OE3_W119, BIASSAME_REFUSED_W119, SCDETECT1_W119, SCDETECT2_W119, SCDETECT3_W119, SCDETECT4_W119, AIMH1_W119, AIMH2_W119, AIMH3_W119, AIMH5_W119, AIPAIN1_W119, AIPAIN2_W119, AIPAIN3_W119, AIPAIN4_W119, SROBOT1_W119, SROBOT2_W119, SROBOT3_W119, AIPROT1_W119, AIPROT2_W119, AICROP1_W119, AICROP2_W119, AIEXT1_W119, AIEXT2_W119, AINEWS1_W119, AINEWS2_W119, AIIMAG1_W119, AIIMAG2_W119, EMPLSIT_W119, JOBAPPYR_W119, INDUSTRYCOMBO_W119, AIWRK2_a_W119, AIWRK2_b_W119, AIWRK2_c_W119, AIWRK3_a_W119, AIWRK3_b_W119, AIWRK3_c_W119, AIWRKH1_W119, AIWRKH2_a_W119, AIWRKH2_b_W119, AIWRKH3_a_W119, AIWRKH3_b_W119, AIWRKH3_c_W119, AIWRKH3_d_W119, AIWRKH4_W119, AIWRKH5Y_OE1_W119, AIWRKH5Y_OE2_W119, AIWRKH5Y_OE3_W119, AIWRKH5Y_REFUSED_W119, AIWRKH5N_OE1_W119, AIWRKH5N_OE2_W119, AIWRKH5N_OE3_W119, AIWRKH5N_REFUSED_W119, HIREBIAS1_W119, HIREBIAS2_W119, ...]\n",
      "Index: []\n",
      "\n",
      "[0 rows x 156 columns]\n"
     ]
    }
   ],
   "source": [
    "# dropping rows with more 50% missing values\n",
    " \n",
    "thresh = len(df.columns) // 2 \n",
    "df_adults_cleaned = df.dropna(thresh=thresh, axis=0)\n",
    "\n",
    "print(\"Cleaned shape:\", df_adults_cleaned.shape)\n",
    "\n",
    "# print(df_adults_cleaned.head())\n",
    "\n",
    "removed_rows = df[~df.index.isin(df_adults_cleaned.index)]\n",
    "print(\"\\nSample of removed rows (with too many missing values):\")\n",
    "print(removed_rows.head())"
   ]
  },
  {
   "cell_type": "code",
   "execution_count": null,
   "metadata": {},
   "outputs": [],
   "source": []
  }
 ],
 "metadata": {
  "kernelspec": {
   "display_name": "Python (cs418)",
   "language": "python",
   "name": "cs418"
  },
  "language_info": {
   "codemirror_mode": {
    "name": "ipython",
    "version": 3
   },
   "file_extension": ".py",
   "mimetype": "text/x-python",
   "name": "python",
   "nbconvert_exporter": "python",
   "pygments_lexer": "ipython3",
   "version": "3.12.3"
  }
 },
 "nbformat": 4,
 "nbformat_minor": 2
}
